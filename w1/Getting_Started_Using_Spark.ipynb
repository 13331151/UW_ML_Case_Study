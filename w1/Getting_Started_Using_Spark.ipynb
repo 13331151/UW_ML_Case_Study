{
 "cells": [
  {
   "cell_type": "markdown",
   "metadata": {},
   "source": [
    "# Load CSV Data\n",
    "You need to configure Jupyter and Ipython to run spark-shell at startup.\n",
    "\n",
    "The shell will configure the spark context and import the dependancies."
   ]
  },
  {
   "cell_type": "code",
   "execution_count": 51,
   "metadata": {
    "collapsed": false
   },
   "outputs": [],
   "source": [
    "spark_df = sqlContext.read.format('com.databricks.spark.csv').options(header='true').load(path='/home/yacine/moocs/UW_ML_Case_Study/w1/people-example.csv', inferSchema=False)"
   ]
  },
  {
   "cell_type": "code",
   "execution_count": 52,
   "metadata": {
    "collapsed": false,
    "scrolled": true
   },
   "outputs": [
    {
     "name": "stdout",
     "output_type": "stream",
     "text": [
      "+----------+---------+-------------+---+\n",
      "|First Name|Last Name|      Country|age|\n",
      "+----------+---------+-------------+---+\n",
      "|       Bob|    Smith|United States| 24|\n",
      "|     Alice| Williams|       Canada| 23|\n",
      "|   Malcolm|     Jone|      England| 22|\n",
      "|     Felix|    Brown|          USA| 23|\n",
      "|      Alex|   Cooper|       Poland| 23|\n",
      "|       Tod| Campbell|United States| 22|\n",
      "|     Derek|     Ward|  Switzerland| 25|\n",
      "+----------+---------+-------------+---+\n",
      "\n"
     ]
    }
   ],
   "source": [
    "spark_df.show() # This will show the 20 twenty lines\n",
    "#no tail() for Spark (Think Big Data)"
   ]
  },
  {
   "cell_type": "markdown",
   "metadata": {},
   "source": [
    "# By defalut column types are String\n",
    "This can be changed by using\n",
    "\n",
    "inferSchema=True in \"load\"\n",
    "\n",
    "cast the column using \"astype\""
   ]
  },
  {
   "cell_type": "code",
   "execution_count": 53,
   "metadata": {
    "collapsed": false
   },
   "outputs": [
    {
     "name": "stdout",
     "output_type": "stream",
     "text": [
      "root\n",
      " |-- First Name: string (nullable = true)\n",
      " |-- Last Name: string (nullable = true)\n",
      " |-- Country: string (nullable = true)\n",
      " |-- age: string (nullable = true)\n",
      "\n"
     ]
    }
   ],
   "source": [
    "spark_df.columns\n",
    "spark_df.printSchema()"
   ]
  },
  {
   "cell_type": "code",
   "execution_count": 54,
   "metadata": {
    "collapsed": false
   },
   "outputs": [
    {
     "name": "stdout",
     "output_type": "stream",
     "text": [
      "+----------+---------+-------------+---+\n",
      "|First Name|Last Name|      Country|age|\n",
      "+----------+---------+-------------+---+\n",
      "|       Bob|    Smith|United States| 24|\n",
      "|     Alice| Williams|       Canada| 23|\n",
      "|   Malcolm|     Jone|      England| 22|\n",
      "|     Felix|    Brown|          USA| 23|\n",
      "|      Alex|   Cooper|       Poland| 23|\n",
      "|       Tod| Campbell|United States| 22|\n",
      "|     Derek|     Ward|  Switzerland| 25|\n",
      "+----------+---------+-------------+---+\n",
      "\n"
     ]
    },
    {
     "data": {
      "text/plain": [
       "StructType(List(StructField(First Name,StringType,true),StructField(Last Name,StringType,true),StructField(Country,StringType,true),StructField(age,IntegerType,true)))"
      ]
     },
     "execution_count": 54,
     "metadata": {},
     "output_type": "execute_result"
    }
   ],
   "source": [
    "spark_df.schema\n",
    "spark_df = spark_df.withColumn('age', spark_df['age'].astype('int'))\n",
    "spark_df.show()\n",
    "spark_df.schema"
   ]
  },
  {
   "cell_type": "code",
   "execution_count": 55,
   "metadata": {
    "collapsed": false
   },
   "outputs": [
    {
     "name": "stdout",
     "output_type": "stream",
     "text": [
      "+-------+------------------+\n",
      "|summary|               age|\n",
      "+-------+------------------+\n",
      "|  count|                 7|\n",
      "|   mean|23.142857142857142|\n",
      "| stddev|0.9897433186107893|\n",
      "|    min|                22|\n",
      "|    max|                25|\n",
      "+-------+------------------+\n",
      "\n"
     ]
    }
   ],
   "source": [
    "spark_df.describe().show()"
   ]
  },
  {
   "cell_type": "markdown",
   "metadata": {},
   "source": [
    "# Histogram"
   ]
  },
  {
   "cell_type": "code",
   "execution_count": 56,
   "metadata": {
    "collapsed": false
   },
   "outputs": [
    {
     "data": {
      "text/plain": [
       "<matplotlib.axes._subplots.AxesSubplot at 0x7f1d96d39550>"
      ]
     },
     "execution_count": 56,
     "metadata": {},
     "output_type": "execute_result"
    },
    {
     "data": {
      "image/png": "[encoded data removed]",
      "text/plain": [
       "<matplotlib.figure.Figure at 0x7f1d96e6a950>"
      ]
     },
     "metadata": {},
     "output_type": "display_data"
    }
   ],
   "source": [
    "%matplotlib inline\n",
    "import seaborn as sb\n",
    "\n",
    "sb.distplot(spark_df.toPandas().age)"
   ]
  },
  {
   "cell_type": "markdown",
   "metadata": {},
   "source": [
    "# Some Statistics"
   ]
  },
  {
   "cell_type": "code",
   "execution_count": 57,
   "metadata": {
    "collapsed": false
   },
   "outputs": [
    {
     "name": "stdout",
     "output_type": "stream",
     "text": [
      "+--------+------------------+--------+\n",
      "|min(age)|          avg(age)|max(age)|\n",
      "+--------+------------------+--------+\n",
      "|      22|23.142857142857142|      25|\n",
      "+--------+------------------+--------+\n",
      "\n"
     ]
    }
   ],
   "source": [
    "from pyspark.sql.functions import mean, min, max\n",
    "spark_df.select([min('age'), mean('age'),max('age')]).show()"
   ]
  },
  {
   "cell_type": "code",
   "execution_count": 58,
   "metadata": {
    "collapsed": false
   },
   "outputs": [
    {
     "name": "stdout",
     "output_type": "stream",
     "text": [
      "23.1428571429\n"
     ]
    }
   ],
   "source": [
    "print spark_df.rdd.map(lambda e: e.age).mean()"
   ]
  },
  {
   "cell_type": "markdown",
   "metadata": {},
   "source": [
    "# Manipulate/ Create Columns\n",
    "\n",
    "Use user defined function (the equivalent of \"apply()\"\n",
    "\n",
    "use \"withColumn()\""
   ]
  },
  {
   "cell_type": "code",
   "execution_count": 59,
   "metadata": {
    "collapsed": false
   },
   "outputs": [
    {
     "name": "stdout",
     "output_type": "stream",
     "text": [
      "+----------+---------+-------------+---+\n",
      "|First Name|Last Name|      Country|age|\n",
      "+----------+---------+-------------+---+\n",
      "|       Bob|    Smith|United States| 24|\n",
      "|     Alice| Williams|       Canada| 23|\n",
      "|   Malcolm|     Jone|      England| 22|\n",
      "|     Felix|    Brown|United States| 23|\n",
      "|      Alex|   Cooper|       Poland| 23|\n",
      "|       Tod| Campbell|United States| 22|\n",
      "|     Derek|     Ward|  Switzerland| 25|\n",
      "+----------+---------+-------------+---+\n",
      "\n"
     ]
    }
   ],
   "source": [
    "from pyspark.sql.functions import udf\n",
    "from pyspark.sql.types import StringType\n",
    "\n",
    "transform_country = udf(lambda country: 'United States' if country == 'USA' else country, StringType())\n",
    "spark_df.withColumn('Country', transform_country(spark_df['Country'])).show()"
   ]
  }
 ],
 "metadata": {
  "kernelspec": {
   "display_name": "Python 2",
   "language": "python",
   "name": "python2"
  },
  "language_info": {
   "codemirror_mode": {
    "name": "ipython",
    "version": 2
   },
   "file_extension": ".py",
   "mimetype": "text/x-python",
   "name": "python",
   "nbconvert_exporter": "python",
   "pygments_lexer": "ipython2",
   "version": "2.7.9"
  }
 },
 "nbformat": 4,
 "nbformat_minor": 0
}
